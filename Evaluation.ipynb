{
 "cells": [
  {
   "cell_type": "code",
   "id": "initial_id",
   "metadata": {
    "collapsed": true,
    "ExecuteTime": {
     "end_time": "2025-06-23T23:53:04.992003Z",
     "start_time": "2025-06-23T23:53:04.987800Z"
    }
   },
   "source": [
    "import numpy as np\n",
    "import importlib\n",
    "from sklearn.datasets import make_classification"
   ],
   "outputs": [],
   "execution_count": 7
  },
  {
   "metadata": {
    "ExecuteTime": {
     "end_time": "2025-06-23T23:53:05.185374Z",
     "start_time": "2025-06-23T23:53:05.179483Z"
    }
   },
   "cell_type": "code",
   "source": [
    "X,y=make_classification(n_samples=1000, n_features=10, n_informative=3, n_redundant=5, random_state=42)\n",
    "y=2*y-1"
   ],
   "id": "18a2edb315b755be",
   "outputs": [],
   "execution_count": 8
  },
  {
   "metadata": {
    "ExecuteTime": {
     "end_time": "2025-06-24T12:19:12.213793Z",
     "start_time": "2025-06-24T12:19:12.210238Z"
    }
   },
   "cell_type": "code",
   "source": "import src.OptimizedCuttingPlaneSVM as ocpsvm",
   "id": "565e5b34ab0c4441",
   "outputs": [],
   "execution_count": 63
  },
  {
   "metadata": {
    "ExecuteTime": {
     "end_time": "2025-06-24T12:20:29.074809Z",
     "start_time": "2025-06-24T12:20:29.066969Z"
    }
   },
   "cell_type": "code",
   "source": "importlib.reload(ocpsvm)",
   "id": "fa3640714e752d85",
   "outputs": [
    {
     "data": {
      "text/plain": [
       "<module 'src.OptimizedCuttingPlaneSVM' from 'C:\\\\Users\\\\18pep\\\\Documents\\\\sem_I\\\\OmiDA\\\\Project\\\\src\\\\OptimizedCuttingPlaneSVM.py'>"
      ]
     },
     "execution_count": 70,
     "metadata": {},
     "output_type": "execute_result"
    }
   ],
   "execution_count": 70
  },
  {
   "metadata": {
    "ExecuteTime": {
     "end_time": "2025-06-24T12:20:29.327421Z",
     "start_time": "2025-06-24T12:20:29.324277Z"
    }
   },
   "cell_type": "code",
   "source": "model=ocpsvm.OCPSVM()",
   "id": "19a90cdf72f77d0b",
   "outputs": [],
   "execution_count": 71
  },
  {
   "metadata": {
    "ExecuteTime": {
     "end_time": "2025-06-24T12:21:43.745127Z",
     "start_time": "2025-06-24T12:21:43.738999Z"
    }
   },
   "cell_type": "code",
   "source": "np.mean(X,axis=0)",
   "id": "1f31f7c089fbe5",
   "outputs": [
    {
     "data": {
      "text/plain": [
       "array([ 0.15110451, -0.17071388, -0.50186355,  0.72659273, -0.52936132,\n",
       "        0.00948628,  0.4820599 ,  0.24641531, -0.00303309, -0.00403843])"
      ]
     },
     "execution_count": 77,
     "metadata": {},
     "output_type": "execute_result"
    }
   ],
   "execution_count": 77
  },
  {
   "metadata": {
    "ExecuteTime": {
     "end_time": "2025-06-24T12:22:21.776683Z",
     "start_time": "2025-06-24T12:22:21.770736Z"
    }
   },
   "cell_type": "code",
   "source": "model.W",
   "id": "5d8b3c847691f58c",
   "outputs": [
    {
     "data": {
      "text/plain": [
       "array([[0.],\n",
       "       [0.],\n",
       "       [0.],\n",
       "       [0.],\n",
       "       [0.],\n",
       "       [0.],\n",
       "       [0.],\n",
       "       [0.],\n",
       "       [0.],\n",
       "       [0.]])"
      ]
     },
     "execution_count": 78,
     "metadata": {},
     "output_type": "execute_result"
    }
   ],
   "execution_count": 78
  },
  {
   "metadata": {
    "ExecuteTime": {
     "end_time": "2025-06-23T12:56:33.379910Z",
     "start_time": "2025-06-23T12:56:33.374290Z"
    }
   },
   "cell_type": "code",
   "source": [
    "A=np.array([[1,2],[3,4],[5,6]])\n",
    "b=np.array([1,-1,1])"
   ],
   "id": "ab2044370eeee741",
   "outputs": [],
   "execution_count": 132
  },
  {
   "metadata": {
    "ExecuteTime": {
     "end_time": "2025-06-23T12:56:54.584055Z",
     "start_time": "2025-06-23T12:56:54.579189Z"
    }
   },
   "cell_type": "code",
   "source": "(A.T*b).T",
   "id": "b0adf846bee4f5e8",
   "outputs": [
    {
     "data": {
      "text/plain": [
       "array([[ 1,  2],\n",
       "       [-3, -4],\n",
       "       [ 5,  6]])"
      ]
     },
     "execution_count": 136,
     "metadata": {},
     "output_type": "execute_result"
    }
   ],
   "execution_count": 136
  },
  {
   "metadata": {
    "ExecuteTime": {
     "end_time": "2025-06-24T00:18:56.793261Z",
     "start_time": "2025-06-24T00:18:56.789444Z"
    }
   },
   "cell_type": "code",
   "source": [
    "a=np.array([1,2,3])\n",
    "b=np.array([0,0,0])"
   ],
   "id": "854d36d8e83e68d9",
   "outputs": [],
   "execution_count": 18
  },
  {
   "metadata": {
    "ExecuteTime": {
     "end_time": "2025-06-24T00:18:57.002733Z",
     "start_time": "2025-06-24T00:18:56.996862Z"
    }
   },
   "cell_type": "code",
   "source": "np.linalg.norm(a-b,2)**2",
   "id": "885604889df831c8",
   "outputs": [
    {
     "data": {
      "text/plain": [
       "np.float64(14.0)"
      ]
     },
     "execution_count": 19,
     "metadata": {},
     "output_type": "execute_result"
    }
   ],
   "execution_count": 19
  },
  {
   "metadata": {
    "ExecuteTime": {
     "end_time": "2025-06-24T00:20:17.064409Z",
     "start_time": "2025-06-24T00:20:17.060708Z"
    }
   },
   "cell_type": "code",
   "source": "A=np.array([[1,2],[3,4],[5,6]])",
   "id": "d420b9623b92095d",
   "outputs": [],
   "execution_count": 26
  },
  {
   "metadata": {
    "ExecuteTime": {
     "end_time": "2025-06-24T01:06:10.201027Z",
     "start_time": "2025-06-24T01:06:10.198232Z"
    }
   },
   "cell_type": "code",
   "source": "A=np.hstack((A,np.array([1,1,1]).reshape(-1,1)))",
   "id": "3e2510c06bdeaa19",
   "outputs": [],
   "execution_count": 58
  },
  {
   "metadata": {
    "ExecuteTime": {
     "end_time": "2025-06-24T01:06:27.843892Z",
     "start_time": "2025-06-24T01:06:27.840039Z"
    }
   },
   "cell_type": "code",
   "source": [
    "for a in A:\n",
    "    print(a)"
   ],
   "id": "e996594511707cb6",
   "outputs": [
    {
     "name": "stdout",
     "output_type": "stream",
     "text": [
      "[1 2 1]\n",
      "[0 4 1]\n",
      "[5 0 1]\n"
     ]
    }
   ],
   "execution_count": 61
  },
  {
   "metadata": {
    "ExecuteTime": {
     "end_time": "2025-06-24T01:06:34.198243Z",
     "start_time": "2025-06-24T01:06:34.190110Z"
    }
   },
   "cell_type": "code",
   "source": "A",
   "id": "5d75e1a8ae83eaec",
   "outputs": [
    {
     "data": {
      "text/plain": [
       "array([[1, 2, 1],\n",
       "       [0, 4, 1],\n",
       "       [5, 0, 1]])"
      ]
     },
     "execution_count": 62,
     "metadata": {},
     "output_type": "execute_result"
    }
   ],
   "execution_count": 62
  },
  {
   "metadata": {},
   "cell_type": "code",
   "outputs": [],
   "execution_count": null,
   "source": "",
   "id": "8cedbc017c666bbe"
  }
 ],
 "metadata": {
  "kernelspec": {
   "display_name": "Python 3",
   "language": "python",
   "name": "python3"
  },
  "language_info": {
   "codemirror_mode": {
    "name": "ipython",
    "version": 2
   },
   "file_extension": ".py",
   "mimetype": "text/x-python",
   "name": "python",
   "nbconvert_exporter": "python",
   "pygments_lexer": "ipython2",
   "version": "2.7.6"
  }
 },
 "nbformat": 4,
 "nbformat_minor": 5
}
