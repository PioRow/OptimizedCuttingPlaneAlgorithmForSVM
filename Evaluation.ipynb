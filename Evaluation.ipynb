{
 "cells": [
  {
   "cell_type": "code",
   "id": "initial_id",
   "metadata": {
    "collapsed": true,
    "ExecuteTime": {
     "end_time": "2025-06-23T15:14:03.472133Z",
     "start_time": "2025-06-23T15:14:01.721724Z"
    }
   },
   "source": [
    "import numpy as np\n",
    "import importlib\n",
    "from sklearn.datasets import make_classification"
   ],
   "outputs": [],
   "execution_count": 2
  },
  {
   "metadata": {
    "ExecuteTime": {
     "end_time": "2025-06-23T15:14:03.482698Z",
     "start_time": "2025-06-23T15:14:03.477039Z"
    }
   },
   "cell_type": "code",
   "source": [
    "X,y=make_classification(n_samples=1000, n_features=10, n_informative=3, n_redundant=5, random_state=42)\n",
    "y=2*y-1"
   ],
   "id": "18a2edb315b755be",
   "outputs": [],
   "execution_count": 3
  },
  {
   "metadata": {
    "ExecuteTime": {
     "end_time": "2025-06-23T15:14:06.326468Z",
     "start_time": "2025-06-23T15:14:03.502810Z"
    }
   },
   "cell_type": "code",
   "source": "import src.OptimizedCuttingPlaneSVM as ocpsvm",
   "id": "565e5b34ab0c4441",
   "outputs": [],
   "execution_count": 4
  },
  {
   "metadata": {
    "ExecuteTime": {
     "end_time": "2025-06-23T15:16:39.802856Z",
     "start_time": "2025-06-23T15:16:39.781871Z"
    }
   },
   "cell_type": "code",
   "source": "importlib.reload(ocpsvm)",
   "id": "fa3640714e752d85",
   "outputs": [
    {
     "data": {
      "text/plain": [
       "<module 'src.OptimizedCuttingPlaneSVM' from 'C:\\\\Users\\\\18pep\\\\Documents\\\\sem_I\\\\OmiDA\\\\Project\\\\src\\\\OptimizedCuttingPlaneSVM.py'>"
      ]
     },
     "execution_count": 19,
     "metadata": {},
     "output_type": "execute_result"
    }
   ],
   "execution_count": 19
  },
  {
   "metadata": {
    "ExecuteTime": {
     "end_time": "2025-06-23T15:16:39.952595Z",
     "start_time": "2025-06-23T15:16:39.947008Z"
    }
   },
   "cell_type": "code",
   "source": "model=ocpsvm.OCPSVM()",
   "id": "19a90cdf72f77d0b",
   "outputs": [],
   "execution_count": 20
  },
  {
   "metadata": {
    "ExecuteTime": {
     "end_time": "2025-06-23T15:16:40.071133Z",
     "start_time": "2025-06-23T15:16:40.062764Z"
    }
   },
   "cell_type": "code",
   "source": "model.fit(X,y)",
   "id": "1f31f7c089fbe5",
   "outputs": [
    {
     "name": "stdout",
     "output_type": "stream",
     "text": [
      "(10,)\n"
     ]
    }
   ],
   "execution_count": 21
  },
  {
   "metadata": {
    "ExecuteTime": {
     "end_time": "2025-06-23T15:14:33.053518Z",
     "start_time": "2025-06-23T15:14:33.046989Z"
    }
   },
   "cell_type": "code",
   "source": "model.ws_best",
   "id": "5d8b3c847691f58c",
   "outputs": [
    {
     "data": {
      "text/plain": [
       "array([[0.],\n",
       "       [0.],\n",
       "       [0.],\n",
       "       [0.],\n",
       "       [0.],\n",
       "       [0.],\n",
       "       [0.],\n",
       "       [0.],\n",
       "       [0.],\n",
       "       [0.]])"
      ]
     },
     "execution_count": 8,
     "metadata": {},
     "output_type": "execute_result"
    }
   ],
   "execution_count": 8
  },
  {
   "metadata": {
    "ExecuteTime": {
     "end_time": "2025-06-23T12:56:33.379910Z",
     "start_time": "2025-06-23T12:56:33.374290Z"
    }
   },
   "cell_type": "code",
   "source": [
    "A=np.array([[1,2],[3,4],[5,6]])\n",
    "b=np.array([1,-1,1])"
   ],
   "id": "ab2044370eeee741",
   "outputs": [],
   "execution_count": 132
  },
  {
   "metadata": {
    "ExecuteTime": {
     "end_time": "2025-06-23T12:56:54.584055Z",
     "start_time": "2025-06-23T12:56:54.579189Z"
    }
   },
   "cell_type": "code",
   "source": "(A.T*b).T",
   "id": "b0adf846bee4f5e8",
   "outputs": [
    {
     "data": {
      "text/plain": [
       "array([[ 1,  2],\n",
       "       [-3, -4],\n",
       "       [ 5,  6]])"
      ]
     },
     "execution_count": 136,
     "metadata": {},
     "output_type": "execute_result"
    }
   ],
   "execution_count": 136
  },
  {
   "metadata": {
    "ExecuteTime": {
     "end_time": "2025-06-23T15:27:05.427436Z",
     "start_time": "2025-06-23T15:27:05.423646Z"
    }
   },
   "cell_type": "code",
   "source": [
    "a=np.array([1,2,3])\n",
    "b=np.array([0,0,0])"
   ],
   "id": "854d36d8e83e68d9",
   "outputs": [],
   "execution_count": 22
  },
  {
   "metadata": {
    "ExecuteTime": {
     "end_time": "2025-06-23T15:27:32.364238Z",
     "start_time": "2025-06-23T15:27:32.358248Z"
    }
   },
   "cell_type": "code",
   "source": "np.linalg.norm(a-b,2)**2",
   "id": "885604889df831c8",
   "outputs": [
    {
     "data": {
      "text/plain": [
       "np.float64(14.0)"
      ]
     },
     "execution_count": 24,
     "metadata": {},
     "output_type": "execute_result"
    }
   ],
   "execution_count": 24
  },
  {
   "metadata": {},
   "cell_type": "code",
   "outputs": [],
   "execution_count": null,
   "source": "",
   "id": "d420b9623b92095d"
  }
 ],
 "metadata": {
  "kernelspec": {
   "display_name": "Python 3",
   "language": "python",
   "name": "python3"
  },
  "language_info": {
   "codemirror_mode": {
    "name": "ipython",
    "version": 2
   },
   "file_extension": ".py",
   "mimetype": "text/x-python",
   "name": "python",
   "nbconvert_exporter": "python",
   "pygments_lexer": "ipython2",
   "version": "2.7.6"
  }
 },
 "nbformat": 4,
 "nbformat_minor": 5
}
